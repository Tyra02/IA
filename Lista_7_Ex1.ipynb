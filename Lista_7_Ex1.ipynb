{
  "cells": [
    {
      "cell_type": "markdown",
      "metadata": {
        "id": "VgmJsE91UUIT"
      },
      "source": [
        "Baseado [neste artigo](https://www.pycodemates.com/2022/12/perceptron-algorithm-understanding-and-implementation-python.html)."
      ]
    },
    {
      "cell_type": "code",
      "execution_count": null,
      "metadata": {
        "id": "K_V77nBiUUIU"
      },
      "outputs": [],
      "source": [
        "%pip install np &> /dev/null\n"
      ]
    },
    {
      "cell_type": "code",
      "execution_count": null,
      "metadata": {
        "id": "KxVzI1yaUUIV"
      },
      "outputs": [],
      "source": [
        "import numpy as np\n",
        "\n",
        "class Perceptron:\n",
        "    def __init__(self, learning_rate, epochs):\n",
        "        self.weights = None\n",
        "        self.bias = None\n",
        "        self.learning_rate = learning_rate\n",
        "        self.epochs = epochs\n",
        "\n",
        "    # step function\n",
        "    @staticmethod\n",
        "    def activation(z):\n",
        "        return np.heaviside(z, 0)\n",
        "\n",
        "    def predict(self, X):\n",
        "        z = np.dot(X, self.weights) + self.bias\n",
        "        return self.activation(z)\n",
        "\n",
        "    def manual_fit(self, weights, bias):\n",
        "        self.weights = weights\n",
        "        self.bias = bias\n",
        "\n",
        "    def fit(self, X, y):\n",
        "        n_features = X.shape[1]\n",
        "\n",
        "        # Initializing weights and bias\n",
        "        self.weights = np.zeros((n_features))\n",
        "        self.bias = 0\n",
        "\n",
        "        # Iterating until the number of epochs\n",
        "        for epoch in range(self.epochs):\n",
        "            # Traversing through the entire training set\n",
        "            for i in range(len(X)):\n",
        "                z = np.dot(X, self.weights) + self.bias # Finding the dot product and adding the bias\n",
        "                y_pred = self.activation(z) # Passing through an activation function\n",
        "\n",
        "                #Updating weights and bias\n",
        "                self.weights = self.weights + self.learning_rate * (y[i] - y_pred[i]) * X[i]\n",
        "                self.bias = self.bias + self.learning_rate * (y[i] - y_pred[i])\n",
        "\n",
        "        return self.weights, self.bias\n"
      ]
    },
    {
      "cell_type": "code",
      "execution_count": null,
      "metadata": {
        "id": "gNhqlpniUUIV"
      },
      "outputs": [],
      "source": [
        "CASES = [\n",
        "    [0, 0],\n",
        "    [0, 1],\n",
        "    [1, 0],\n",
        "    [1, 1]\n",
        "]\n",
        "CASES_NP = np.array(CASES, np.int32)\n"
      ]
    },
    {
      "cell_type": "markdown",
      "metadata": {
        "id": "_cwfDTAEUUIW"
      },
      "source": [
        "## AND (RESOLVE)"
      ]
    },
    {
      "cell_type": "code",
      "execution_count": null,
      "metadata": {
        "colab": {
          "base_uri": "https://localhost:8080/"
        },
        "id": "Rj9K37KqUUIW",
        "outputId": "74b55cb9-24c2-4649-9d2c-31b139024bc9"
      },
      "outputs": [
        {
          "output_type": "stream",
          "name": "stdout",
          "text": [
            "[0, 0] 0.0\n",
            "[0, 1] 0.0\n",
            "[1, 0] 0.0\n",
            "[1, 1] 1.0\n"
          ]
        }
      ],
      "source": [
        "p_and = Perceptron(0.01, 1000)\n",
        "p_and.fit(\n",
        "    CASES_NP,\n",
        "    np.array([0, 0, 0, 1], np.int32)\n",
        ")\n",
        "for case in CASES:\n",
        "    print(case, p_and.predict(np.array(case, np.int32)))\n"
      ]
    },
    {
      "cell_type": "markdown",
      "metadata": {
        "id": "LJIKODdwUUIW"
      },
      "source": [
        "## OR (RESOLVE)"
      ]
    },
    {
      "cell_type": "code",
      "execution_count": null,
      "metadata": {
        "colab": {
          "base_uri": "https://localhost:8080/"
        },
        "id": "Rh9RjwwvUUIW",
        "outputId": "b82cb961-6101-48ac-fddd-bfdb71845719"
      },
      "outputs": [
        {
          "output_type": "stream",
          "name": "stdout",
          "text": [
            "[0, 0] 0.0\n",
            "[0, 1] 1.0\n",
            "[1, 0] 1.0\n",
            "[1, 1] 1.0\n"
          ]
        }
      ],
      "source": [
        "p_and = Perceptron(0.01, 1000)\n",
        "p_and.fit(\n",
        "    CASES_NP,\n",
        "    np.array([0, 1, 1, 1], np.int32)\n",
        ")\n",
        "for case in CASES:\n",
        "    print(case, p_and.predict(np.array(case, np.int32)))\n"
      ]
    },
    {
      "cell_type": "markdown",
      "metadata": {
        "id": "mElfVhTaUUIX"
      },
      "source": [
        "## XOR (NÃO RESOLVE)"
      ]
    },
    {
      "cell_type": "code",
      "execution_count": null,
      "metadata": {
        "colab": {
          "base_uri": "https://localhost:8080/"
        },
        "id": "YYJBTAVDUUIX",
        "outputId": "f0e93740-1ed1-42dc-c39e-fc458b165a7b"
      },
      "outputs": [
        {
          "output_type": "stream",
          "name": "stdout",
          "text": [
            "[0, 0] 0.0 expected:  True\n",
            "[0, 1] 0.0 expected:  False\n",
            "[1, 0] 1.0 expected:  False\n",
            "[1, 1] 1.0 expected:  True\n"
          ]
        }
      ],
      "source": [
        "p_and = Perceptron(0.01, 1000)\n",
        "p_and.fit(\n",
        "    CASES_NP,\n",
        "    np.array([1, 0, 0, 1], np.int32)\n",
        ")\n",
        "for case in CASES:\n",
        "    print(case, p_and.predict(np.array(case, np.int32)), \"expected: \", case[0] == case[1])"
      ]
    }
  ],
  "metadata": {
    "kernelspec": {
      "display_name": ".venv",
      "language": "python",
      "name": "python3"
    },
    "language_info": {
      "codemirror_mode": {
        "name": "ipython",
        "version": 3
      },
      "file_extension": ".py",
      "mimetype": "text/x-python",
      "name": "python",
      "nbconvert_exporter": "python",
      "pygments_lexer": "ipython3",
      "version": "3.11.5"
    },
    "colab": {
      "provenance": []
    }
  },
  "nbformat": 4,
  "nbformat_minor": 0
}