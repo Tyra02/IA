{
  "nbformat": 4,
  "nbformat_minor": 0,
  "metadata": {
    "colab": {
      "provenance": [],
      "authorship_tag": "ABX9TyOYRnEIdxtZ8E36hGnmxbBr"
    },
    "kernelspec": {
      "name": "python3",
      "display_name": "Python 3"
    },
    "language_info": {
      "name": "python"
    }
  },
  "cells": [
    {
      "cell_type": "code",
      "execution_count": 4,
      "metadata": {
        "id": "El3TYA00jRdn"
      },
      "outputs": [],
      "source": [
        "import pandas as pd\n",
        "from sklearn.model_selection import train_test_split, GridSearchCV\n",
        "from sklearn.preprocessing import StandardScaler, OneHotEncoder\n",
        "from sklearn.compose import ColumnTransformer\n",
        "from sklearn.pipeline import Pipeline\n",
        "from sklearn.impute import SimpleImputer\n",
        "from sklearn.neural_network import MLPClassifier\n",
        "from sklearn.metrics import accuracy_score, confusion_matrix, classification_report\n",
        "from imblearn.over_sampling import SMOTE\n",
        "from imblearn.pipeline import Pipeline as ImPipeline"
      ]
    },
    {
      "cell_type": "code",
      "source": [
        "# Lendo dados do arquivo CSV.\n",
        "df = pd.read_csv('/content/breast-cancer.csv')"
      ],
      "metadata": {
        "id": "WoceeWdvjY1t"
      },
      "execution_count": 5,
      "outputs": []
    },
    {
      "cell_type": "code",
      "source": [
        "# Ajustando os dados: Transformação de texto em números e ajuste de escala.\n",
        "num_pipe = Pipeline([\n",
        "    ('imputer', SimpleImputer(strategy='mean')),\n",
        "    ('scaler', StandardScaler())\n",
        "])\n",
        "cat_pipe = Pipeline([\n",
        "    ('imputer', SimpleImputer(strategy='most_frequent')),\n",
        "    ('onehot', OneHotEncoder(handle_unknown='ignore'))\n",
        "])\n",
        "preprocess = ColumnTransformer([\n",
        "    ('num', num_pipe, ['deg-malig']),\n",
        "    ('cat', cat_pipe, ['age', 'menopause', 'tumor-size', 'inv-nodes', 'node-caps', 'breast', 'breast-quad', 'irradiat'])\n",
        "])"
      ],
      "metadata": {
        "id": "4CbP0vs3jask"
      },
      "execution_count": 6,
      "outputs": []
    },
    {
      "cell_type": "code",
      "source": [
        "# Separando as variáveis independentes da dependente.\n",
        "X, y = df.drop('Class', axis=1), df['Class'].map({'no-recurrence-events': 0, 'recurrence-events': 1})"
      ],
      "metadata": {
        "id": "Rah03zvsjdpF"
      },
      "execution_count": 7,
      "outputs": []
    },
    {
      "cell_type": "code",
      "source": [
        "# Dividindo o conjunto de dados para treino e teste.\n",
        "X_train, X_test, y_train, y_test = train_test_split(X, y, test_size=0.2, stratify=y)"
      ],
      "metadata": {
        "id": "cvnpQoiujgTd"
      },
      "execution_count": 8,
      "outputs": []
    },
    {
      "cell_type": "code",
      "source": [
        "# Aplicando o pré-processamento e balanceando as classes no treino.\n",
        "X_train_prep = preprocess.fit_transform(X_train)\n",
        "X_test_prep = preprocess.transform(X_test)\n",
        "X_train_bal, y_train_bal = SMOTE().fit_resample(X_train_prep, y_train)"
      ],
      "metadata": {
        "id": "Lr-Rl-rYjiaN"
      },
      "execution_count": 9,
      "outputs": []
    },
    {
      "cell_type": "code",
      "source": [
        "# Definição da pipeline completa com SMOTE e MLPClassifier.\n",
        "pipeline = ImPipeline([\n",
        "    ('preprocessor', preprocess),\n",
        "    ('smote', SMOTE()),\n",
        "    ('classifier', MLPClassifier(max_iter=1000, verbose=False))\n",
        "])"
      ],
      "metadata": {
        "id": "IRm6kilujkuF"
      },
      "execution_count": 10,
      "outputs": []
    },
    {
      "cell_type": "code",
      "source": [
        "# Parâmetros para o Grid Search com objetivo de otimizar a rede neural.\n",
        "params_grid = {\n",
        "    'classifier__hidden_layer_sizes': [(10,), (10, 10), (20, 10)],\n",
        "    'classifier__learning_rate_init': [0.001, 0.01, 0.1, 0.2, 0.3],\n",
        "    'classifier__max_iter': [1000],\n",
        "    'classifier__verbose': [False],\n",
        "    'classifier__n_iter_no_change': [10],\n",
        "    'classifier__tol': [0.0001]\n",
        "}"
      ],
      "metadata": {
        "id": "HhX3YQT4jm2d"
      },
      "execution_count": 11,
      "outputs": []
    },
    {
      "cell_type": "code",
      "source": [
        "# Implementação do Grid Search com Cross-Validation.\n",
        "grid_search_cv = GridSearchCV(\n",
        "    pipeline, params_grid, cv=5, scoring='accuracy',\n",
        "    verbose=0, n_jobs=1, error_score='raise'\n",
        ")"
      ],
      "metadata": {
        "id": "6jLPuAkIjqbE"
      },
      "execution_count": 12,
      "outputs": []
    },
    {
      "cell_type": "code",
      "source": [
        "# Execução do Grid Search no conjunto de treino.\n",
        "grid_search_cv.fit(X_train, y_train)"
      ],
      "metadata": {
        "colab": {
          "base_uri": "https://localhost:8080/",
          "height": 531
        },
        "id": "6oN2n-_bjxWs",
        "outputId": "22b11279-9747-4aae-b04c-6f0debdb3157"
      },
      "execution_count": 13,
      "outputs": [
        {
          "output_type": "stream",
          "name": "stderr",
          "text": [
            "/usr/local/lib/python3.10/dist-packages/sklearn/neural_network/_multilayer_perceptron.py:686: ConvergenceWarning: Stochastic Optimizer: Maximum iterations (1000) reached and the optimization hasn't converged yet.\n",
            "  warnings.warn(\n",
            "/usr/local/lib/python3.10/dist-packages/sklearn/neural_network/_multilayer_perceptron.py:686: ConvergenceWarning: Stochastic Optimizer: Maximum iterations (1000) reached and the optimization hasn't converged yet.\n",
            "  warnings.warn(\n",
            "/usr/local/lib/python3.10/dist-packages/sklearn/neural_network/_multilayer_perceptron.py:686: ConvergenceWarning: Stochastic Optimizer: Maximum iterations (1000) reached and the optimization hasn't converged yet.\n",
            "  warnings.warn(\n",
            "/usr/local/lib/python3.10/dist-packages/sklearn/neural_network/_multilayer_perceptron.py:686: ConvergenceWarning: Stochastic Optimizer: Maximum iterations (1000) reached and the optimization hasn't converged yet.\n",
            "  warnings.warn(\n",
            "/usr/local/lib/python3.10/dist-packages/sklearn/neural_network/_multilayer_perceptron.py:686: ConvergenceWarning: Stochastic Optimizer: Maximum iterations (1000) reached and the optimization hasn't converged yet.\n",
            "  warnings.warn(\n",
            "/usr/local/lib/python3.10/dist-packages/sklearn/neural_network/_multilayer_perceptron.py:686: ConvergenceWarning: Stochastic Optimizer: Maximum iterations (1000) reached and the optimization hasn't converged yet.\n",
            "  warnings.warn(\n",
            "/usr/local/lib/python3.10/dist-packages/sklearn/neural_network/_multilayer_perceptron.py:686: ConvergenceWarning: Stochastic Optimizer: Maximum iterations (1000) reached and the optimization hasn't converged yet.\n",
            "  warnings.warn(\n"
          ]
        },
        {
          "output_type": "execute_result",
          "data": {
            "text/plain": [
              "GridSearchCV(cv=5, error_score='raise',\n",
              "             estimator=Pipeline(steps=[('preprocessor',\n",
              "                                        ColumnTransformer(transformers=[('num',\n",
              "                                                                         Pipeline(steps=[('imputer',\n",
              "                                                                                          SimpleImputer()),\n",
              "                                                                                         ('scaler',\n",
              "                                                                                          StandardScaler())]),\n",
              "                                                                         ['deg-malig']),\n",
              "                                                                        ('cat',\n",
              "                                                                         Pipeline(steps=[('imputer',\n",
              "                                                                                          SimpleImputer(strategy='most_frequent')),\n",
              "                                                                                         ('onehot',\n",
              "                                                                                          OneHotEncoder(handle_unknown='ignore'))]),\n",
              "                                                                         ['age',\n",
              "                                                                          'menopau...\n",
              "                                                                          'irradiat'])])),\n",
              "                                       ('smote', SMOTE()),\n",
              "                                       ('classifier',\n",
              "                                        MLPClassifier(max_iter=1000))]),\n",
              "             n_jobs=1,\n",
              "             param_grid={'classifier__hidden_layer_sizes': [(10,), (10, 10),\n",
              "                                                            (20, 10)],\n",
              "                         'classifier__learning_rate_init': [0.001, 0.01, 0.1,\n",
              "                                                            0.2, 0.3],\n",
              "                         'classifier__max_iter': [1000],\n",
              "                         'classifier__n_iter_no_change': [10],\n",
              "                         'classifier__tol': [0.0001],\n",
              "                         'classifier__verbose': [False]},\n",
              "             scoring='accuracy')"
            ],
            "text/html": [
              "<style>#sk-container-id-1 {color: black;background-color: white;}#sk-container-id-1 pre{padding: 0;}#sk-container-id-1 div.sk-toggleable {background-color: white;}#sk-container-id-1 label.sk-toggleable__label {cursor: pointer;display: block;width: 100%;margin-bottom: 0;padding: 0.3em;box-sizing: border-box;text-align: center;}#sk-container-id-1 label.sk-toggleable__label-arrow:before {content: \"▸\";float: left;margin-right: 0.25em;color: #696969;}#sk-container-id-1 label.sk-toggleable__label-arrow:hover:before {color: black;}#sk-container-id-1 div.sk-estimator:hover label.sk-toggleable__label-arrow:before {color: black;}#sk-container-id-1 div.sk-toggleable__content {max-height: 0;max-width: 0;overflow: hidden;text-align: left;background-color: #f0f8ff;}#sk-container-id-1 div.sk-toggleable__content pre {margin: 0.2em;color: black;border-radius: 0.25em;background-color: #f0f8ff;}#sk-container-id-1 input.sk-toggleable__control:checked~div.sk-toggleable__content {max-height: 200px;max-width: 100%;overflow: auto;}#sk-container-id-1 input.sk-toggleable__control:checked~label.sk-toggleable__label-arrow:before {content: \"▾\";}#sk-container-id-1 div.sk-estimator input.sk-toggleable__control:checked~label.sk-toggleable__label {background-color: #d4ebff;}#sk-container-id-1 div.sk-label input.sk-toggleable__control:checked~label.sk-toggleable__label {background-color: #d4ebff;}#sk-container-id-1 input.sk-hidden--visually {border: 0;clip: rect(1px 1px 1px 1px);clip: rect(1px, 1px, 1px, 1px);height: 1px;margin: -1px;overflow: hidden;padding: 0;position: absolute;width: 1px;}#sk-container-id-1 div.sk-estimator {font-family: monospace;background-color: #f0f8ff;border: 1px dotted black;border-radius: 0.25em;box-sizing: border-box;margin-bottom: 0.5em;}#sk-container-id-1 div.sk-estimator:hover {background-color: #d4ebff;}#sk-container-id-1 div.sk-parallel-item::after {content: \"\";width: 100%;border-bottom: 1px solid gray;flex-grow: 1;}#sk-container-id-1 div.sk-label:hover label.sk-toggleable__label {background-color: #d4ebff;}#sk-container-id-1 div.sk-serial::before {content: \"\";position: absolute;border-left: 1px solid gray;box-sizing: border-box;top: 0;bottom: 0;left: 50%;z-index: 0;}#sk-container-id-1 div.sk-serial {display: flex;flex-direction: column;align-items: center;background-color: white;padding-right: 0.2em;padding-left: 0.2em;position: relative;}#sk-container-id-1 div.sk-item {position: relative;z-index: 1;}#sk-container-id-1 div.sk-parallel {display: flex;align-items: stretch;justify-content: center;background-color: white;position: relative;}#sk-container-id-1 div.sk-item::before, #sk-container-id-1 div.sk-parallel-item::before {content: \"\";position: absolute;border-left: 1px solid gray;box-sizing: border-box;top: 0;bottom: 0;left: 50%;z-index: -1;}#sk-container-id-1 div.sk-parallel-item {display: flex;flex-direction: column;z-index: 1;position: relative;background-color: white;}#sk-container-id-1 div.sk-parallel-item:first-child::after {align-self: flex-end;width: 50%;}#sk-container-id-1 div.sk-parallel-item:last-child::after {align-self: flex-start;width: 50%;}#sk-container-id-1 div.sk-parallel-item:only-child::after {width: 0;}#sk-container-id-1 div.sk-dashed-wrapped {border: 1px dashed gray;margin: 0 0.4em 0.5em 0.4em;box-sizing: border-box;padding-bottom: 0.4em;background-color: white;}#sk-container-id-1 div.sk-label label {font-family: monospace;font-weight: bold;display: inline-block;line-height: 1.2em;}#sk-container-id-1 div.sk-label-container {text-align: center;}#sk-container-id-1 div.sk-container {/* jupyter's `normalize.less` sets `[hidden] { display: none; }` but bootstrap.min.css set `[hidden] { display: none !important; }` so we also need the `!important` here to be able to override the default hidden behavior on the sphinx rendered scikit-learn.org. See: https://github.com/scikit-learn/scikit-learn/issues/21755 */display: inline-block !important;position: relative;}#sk-container-id-1 div.sk-text-repr-fallback {display: none;}</style><div id=\"sk-container-id-1\" class=\"sk-top-container\"><div class=\"sk-text-repr-fallback\"><pre>GridSearchCV(cv=5, error_score=&#x27;raise&#x27;,\n",
              "             estimator=Pipeline(steps=[(&#x27;preprocessor&#x27;,\n",
              "                                        ColumnTransformer(transformers=[(&#x27;num&#x27;,\n",
              "                                                                         Pipeline(steps=[(&#x27;imputer&#x27;,\n",
              "                                                                                          SimpleImputer()),\n",
              "                                                                                         (&#x27;scaler&#x27;,\n",
              "                                                                                          StandardScaler())]),\n",
              "                                                                         [&#x27;deg-malig&#x27;]),\n",
              "                                                                        (&#x27;cat&#x27;,\n",
              "                                                                         Pipeline(steps=[(&#x27;imputer&#x27;,\n",
              "                                                                                          SimpleImputer(strategy=&#x27;most_frequent&#x27;)),\n",
              "                                                                                         (&#x27;onehot&#x27;,\n",
              "                                                                                          OneHotEncoder(handle_unknown=&#x27;ignore&#x27;))]),\n",
              "                                                                         [&#x27;age&#x27;,\n",
              "                                                                          &#x27;menopau...\n",
              "                                                                          &#x27;irradiat&#x27;])])),\n",
              "                                       (&#x27;smote&#x27;, SMOTE()),\n",
              "                                       (&#x27;classifier&#x27;,\n",
              "                                        MLPClassifier(max_iter=1000))]),\n",
              "             n_jobs=1,\n",
              "             param_grid={&#x27;classifier__hidden_layer_sizes&#x27;: [(10,), (10, 10),\n",
              "                                                            (20, 10)],\n",
              "                         &#x27;classifier__learning_rate_init&#x27;: [0.001, 0.01, 0.1,\n",
              "                                                            0.2, 0.3],\n",
              "                         &#x27;classifier__max_iter&#x27;: [1000],\n",
              "                         &#x27;classifier__n_iter_no_change&#x27;: [10],\n",
              "                         &#x27;classifier__tol&#x27;: [0.0001],\n",
              "                         &#x27;classifier__verbose&#x27;: [False]},\n",
              "             scoring=&#x27;accuracy&#x27;)</pre><b>In a Jupyter environment, please rerun this cell to show the HTML representation or trust the notebook. <br />On GitHub, the HTML representation is unable to render, please try loading this page with nbviewer.org.</b></div><div class=\"sk-container\" hidden><div class=\"sk-item sk-dashed-wrapped\"><div class=\"sk-label-container\"><div class=\"sk-label sk-toggleable\"><input class=\"sk-toggleable__control sk-hidden--visually\" id=\"sk-estimator-id-1\" type=\"checkbox\" ><label for=\"sk-estimator-id-1\" class=\"sk-toggleable__label sk-toggleable__label-arrow\">GridSearchCV</label><div class=\"sk-toggleable__content\"><pre>GridSearchCV(cv=5, error_score=&#x27;raise&#x27;,\n",
              "             estimator=Pipeline(steps=[(&#x27;preprocessor&#x27;,\n",
              "                                        ColumnTransformer(transformers=[(&#x27;num&#x27;,\n",
              "                                                                         Pipeline(steps=[(&#x27;imputer&#x27;,\n",
              "                                                                                          SimpleImputer()),\n",
              "                                                                                         (&#x27;scaler&#x27;,\n",
              "                                                                                          StandardScaler())]),\n",
              "                                                                         [&#x27;deg-malig&#x27;]),\n",
              "                                                                        (&#x27;cat&#x27;,\n",
              "                                                                         Pipeline(steps=[(&#x27;imputer&#x27;,\n",
              "                                                                                          SimpleImputer(strategy=&#x27;most_frequent&#x27;)),\n",
              "                                                                                         (&#x27;onehot&#x27;,\n",
              "                                                                                          OneHotEncoder(handle_unknown=&#x27;ignore&#x27;))]),\n",
              "                                                                         [&#x27;age&#x27;,\n",
              "                                                                          &#x27;menopau...\n",
              "                                                                          &#x27;irradiat&#x27;])])),\n",
              "                                       (&#x27;smote&#x27;, SMOTE()),\n",
              "                                       (&#x27;classifier&#x27;,\n",
              "                                        MLPClassifier(max_iter=1000))]),\n",
              "             n_jobs=1,\n",
              "             param_grid={&#x27;classifier__hidden_layer_sizes&#x27;: [(10,), (10, 10),\n",
              "                                                            (20, 10)],\n",
              "                         &#x27;classifier__learning_rate_init&#x27;: [0.001, 0.01, 0.1,\n",
              "                                                            0.2, 0.3],\n",
              "                         &#x27;classifier__max_iter&#x27;: [1000],\n",
              "                         &#x27;classifier__n_iter_no_change&#x27;: [10],\n",
              "                         &#x27;classifier__tol&#x27;: [0.0001],\n",
              "                         &#x27;classifier__verbose&#x27;: [False]},\n",
              "             scoring=&#x27;accuracy&#x27;)</pre></div></div></div><div class=\"sk-parallel\"><div class=\"sk-parallel-item\"><div class=\"sk-item\"><div class=\"sk-label-container\"><div class=\"sk-label sk-toggleable\"><input class=\"sk-toggleable__control sk-hidden--visually\" id=\"sk-estimator-id-2\" type=\"checkbox\" ><label for=\"sk-estimator-id-2\" class=\"sk-toggleable__label sk-toggleable__label-arrow\">estimator: Pipeline</label><div class=\"sk-toggleable__content\"><pre>Pipeline(steps=[(&#x27;preprocessor&#x27;,\n",
              "                 ColumnTransformer(transformers=[(&#x27;num&#x27;,\n",
              "                                                  Pipeline(steps=[(&#x27;imputer&#x27;,\n",
              "                                                                   SimpleImputer()),\n",
              "                                                                  (&#x27;scaler&#x27;,\n",
              "                                                                   StandardScaler())]),\n",
              "                                                  [&#x27;deg-malig&#x27;]),\n",
              "                                                 (&#x27;cat&#x27;,\n",
              "                                                  Pipeline(steps=[(&#x27;imputer&#x27;,\n",
              "                                                                   SimpleImputer(strategy=&#x27;most_frequent&#x27;)),\n",
              "                                                                  (&#x27;onehot&#x27;,\n",
              "                                                                   OneHotEncoder(handle_unknown=&#x27;ignore&#x27;))]),\n",
              "                                                  [&#x27;age&#x27;, &#x27;menopause&#x27;,\n",
              "                                                   &#x27;tumor-size&#x27;, &#x27;inv-nodes&#x27;,\n",
              "                                                   &#x27;node-caps&#x27;, &#x27;breast&#x27;,\n",
              "                                                   &#x27;breast-quad&#x27;,\n",
              "                                                   &#x27;irradiat&#x27;])])),\n",
              "                (&#x27;smote&#x27;, SMOTE()),\n",
              "                (&#x27;classifier&#x27;, MLPClassifier(max_iter=1000))])</pre></div></div></div><div class=\"sk-serial\"><div class=\"sk-item\"><div class=\"sk-serial\"><div class=\"sk-item sk-dashed-wrapped\"><div class=\"sk-label-container\"><div class=\"sk-label sk-toggleable\"><input class=\"sk-toggleable__control sk-hidden--visually\" id=\"sk-estimator-id-3\" type=\"checkbox\" ><label for=\"sk-estimator-id-3\" class=\"sk-toggleable__label sk-toggleable__label-arrow\">preprocessor: ColumnTransformer</label><div class=\"sk-toggleable__content\"><pre>ColumnTransformer(transformers=[(&#x27;num&#x27;,\n",
              "                                 Pipeline(steps=[(&#x27;imputer&#x27;, SimpleImputer()),\n",
              "                                                 (&#x27;scaler&#x27;, StandardScaler())]),\n",
              "                                 [&#x27;deg-malig&#x27;]),\n",
              "                                (&#x27;cat&#x27;,\n",
              "                                 Pipeline(steps=[(&#x27;imputer&#x27;,\n",
              "                                                  SimpleImputer(strategy=&#x27;most_frequent&#x27;)),\n",
              "                                                 (&#x27;onehot&#x27;,\n",
              "                                                  OneHotEncoder(handle_unknown=&#x27;ignore&#x27;))]),\n",
              "                                 [&#x27;age&#x27;, &#x27;menopause&#x27;, &#x27;tumor-size&#x27;, &#x27;inv-nodes&#x27;,\n",
              "                                  &#x27;node-caps&#x27;, &#x27;breast&#x27;, &#x27;breast-quad&#x27;,\n",
              "                                  &#x27;irradiat&#x27;])])</pre></div></div></div><div class=\"sk-parallel\"><div class=\"sk-parallel-item\"><div class=\"sk-item\"><div class=\"sk-label-container\"><div class=\"sk-label sk-toggleable\"><input class=\"sk-toggleable__control sk-hidden--visually\" id=\"sk-estimator-id-4\" type=\"checkbox\" ><label for=\"sk-estimator-id-4\" class=\"sk-toggleable__label sk-toggleable__label-arrow\">num</label><div class=\"sk-toggleable__content\"><pre>[&#x27;deg-malig&#x27;]</pre></div></div></div><div class=\"sk-serial\"><div class=\"sk-item\"><div class=\"sk-serial\"><div class=\"sk-item\"><div class=\"sk-estimator sk-toggleable\"><input class=\"sk-toggleable__control sk-hidden--visually\" id=\"sk-estimator-id-5\" type=\"checkbox\" ><label for=\"sk-estimator-id-5\" class=\"sk-toggleable__label sk-toggleable__label-arrow\">SimpleImputer</label><div class=\"sk-toggleable__content\"><pre>SimpleImputer()</pre></div></div></div><div class=\"sk-item\"><div class=\"sk-estimator sk-toggleable\"><input class=\"sk-toggleable__control sk-hidden--visually\" id=\"sk-estimator-id-6\" type=\"checkbox\" ><label for=\"sk-estimator-id-6\" class=\"sk-toggleable__label sk-toggleable__label-arrow\">StandardScaler</label><div class=\"sk-toggleable__content\"><pre>StandardScaler()</pre></div></div></div></div></div></div></div></div><div class=\"sk-parallel-item\"><div class=\"sk-item\"><div class=\"sk-label-container\"><div class=\"sk-label sk-toggleable\"><input class=\"sk-toggleable__control sk-hidden--visually\" id=\"sk-estimator-id-7\" type=\"checkbox\" ><label for=\"sk-estimator-id-7\" class=\"sk-toggleable__label sk-toggleable__label-arrow\">cat</label><div class=\"sk-toggleable__content\"><pre>[&#x27;age&#x27;, &#x27;menopause&#x27;, &#x27;tumor-size&#x27;, &#x27;inv-nodes&#x27;, &#x27;node-caps&#x27;, &#x27;breast&#x27;, &#x27;breast-quad&#x27;, &#x27;irradiat&#x27;]</pre></div></div></div><div class=\"sk-serial\"><div class=\"sk-item\"><div class=\"sk-serial\"><div class=\"sk-item\"><div class=\"sk-estimator sk-toggleable\"><input class=\"sk-toggleable__control sk-hidden--visually\" id=\"sk-estimator-id-8\" type=\"checkbox\" ><label for=\"sk-estimator-id-8\" class=\"sk-toggleable__label sk-toggleable__label-arrow\">SimpleImputer</label><div class=\"sk-toggleable__content\"><pre>SimpleImputer(strategy=&#x27;most_frequent&#x27;)</pre></div></div></div><div class=\"sk-item\"><div class=\"sk-estimator sk-toggleable\"><input class=\"sk-toggleable__control sk-hidden--visually\" id=\"sk-estimator-id-9\" type=\"checkbox\" ><label for=\"sk-estimator-id-9\" class=\"sk-toggleable__label sk-toggleable__label-arrow\">OneHotEncoder</label><div class=\"sk-toggleable__content\"><pre>OneHotEncoder(handle_unknown=&#x27;ignore&#x27;)</pre></div></div></div></div></div></div></div></div></div></div><div class=\"sk-item\"><div class=\"sk-estimator sk-toggleable\"><input class=\"sk-toggleable__control sk-hidden--visually\" id=\"sk-estimator-id-10\" type=\"checkbox\" ><label for=\"sk-estimator-id-10\" class=\"sk-toggleable__label sk-toggleable__label-arrow\">SMOTE</label><div class=\"sk-toggleable__content\"><pre>SMOTE()</pre></div></div></div><div class=\"sk-item\"><div class=\"sk-estimator sk-toggleable\"><input class=\"sk-toggleable__control sk-hidden--visually\" id=\"sk-estimator-id-11\" type=\"checkbox\" ><label for=\"sk-estimator-id-11\" class=\"sk-toggleable__label sk-toggleable__label-arrow\">MLPClassifier</label><div class=\"sk-toggleable__content\"><pre>MLPClassifier(max_iter=1000)</pre></div></div></div></div></div></div></div></div></div></div></div></div>"
            ]
          },
          "metadata": {},
          "execution_count": 13
        }
      ]
    },
    {
      "cell_type": "code",
      "source": [
        "# Selecionando o melhor modelo encontrado.\n",
        "optimal_model = grid_search_cv.best_estimator_"
      ],
      "metadata": {
        "id": "RNWL9I6Mjx0_"
      },
      "execution_count": 14,
      "outputs": []
    },
    {
      "cell_type": "code",
      "source": [
        "# Avaliação do modelo ótimo no conjunto de teste.\n",
        "predictions = optimal_model.predict(X_test)"
      ],
      "metadata": {
        "id": "OqerE5h-jzYE"
      },
      "execution_count": 15,
      "outputs": []
    },
    {
      "cell_type": "code",
      "source": [
        "# Apresentação dos resultados de desempenho.\n",
        "print(\"Relatório de Desempenho do Modelo Ótimo:\")\n",
        "print(f\"Acurácia: {accuracy_score(y_test, predictions):.2f}\")\n",
        "print(\"Matriz de Confusão:\")\n",
        "print(confusion_matrix(y_test, predictions))\n",
        "print(\"\\nResumo de Classificação:\")\n",
        "print(classification_report(y_test, predictions))"
      ],
      "metadata": {
        "colab": {
          "base_uri": "https://localhost:8080/"
        },
        "id": "xUo7uZy5j1X0",
        "outputId": "c3a24c86-7219-46cc-8e13-4de98b6490c7"
      },
      "execution_count": 16,
      "outputs": [
        {
          "output_type": "stream",
          "name": "stdout",
          "text": [
            "Relatório de Desempenho do Modelo Ótimo:\n",
            "Acurácia: 0.67\n",
            "Matriz de Confusão:\n",
            "[[29 12]\n",
            " [ 7 10]]\n",
            "\n",
            "Resumo de Classificação:\n",
            "              precision    recall  f1-score   support\n",
            "\n",
            "           0       0.81      0.71      0.75        41\n",
            "           1       0.45      0.59      0.51        17\n",
            "\n",
            "    accuracy                           0.67        58\n",
            "   macro avg       0.63      0.65      0.63        58\n",
            "weighted avg       0.70      0.67      0.68        58\n",
            "\n"
          ]
        }
      ]
    },
    {
      "cell_type": "code",
      "source": [
        "# Exibindo os parâmetros ótimos.\n",
        "print(\"Configurações Ótimas:\")\n",
        "print(grid_search_cv.best_params_)\n",
        "print(f\"Precisão Média da Validação Cruzada: {grid_search_cv.best_score_:.2f}\")"
      ],
      "metadata": {
        "colab": {
          "base_uri": "https://localhost:8080/"
        },
        "id": "yXziwV0mj3Q0",
        "outputId": "15e13ce3-a26d-46d5-aab2-b8dfaf92480d"
      },
      "execution_count": 17,
      "outputs": [
        {
          "output_type": "stream",
          "name": "stdout",
          "text": [
            "Configurações Ótimas:\n",
            "{'classifier__hidden_layer_sizes': (20, 10), 'classifier__learning_rate_init': 0.1, 'classifier__max_iter': 1000, 'classifier__n_iter_no_change': 10, 'classifier__tol': 0.0001, 'classifier__verbose': False}\n",
            "Precisão Média da Validação Cruzada: 0.73\n"
          ]
        }
      ]
    },
    {
      "cell_type": "code",
      "source": [
        "# Repetindo o processo para diferentes topologias e taxas de aprendizado.\n",
        "topology_results = []\n",
        "learning_rate_results = []\n",
        "\n",
        "for size in [(10,), (10, 10), (20, 10)]:\n",
        "    for lr in [0.001, 0.01, 0.1, 0.2, 0.3]:\n",
        "        model = MLPClassifier(hidden_layer_sizes=size, learning_rate_init=lr, max_iter=1000, verbose=False)\n",
        "        model.fit(X_train_bal, y_train_bal)\n",
        "\n",
        "        # Predições e avaliação para cada configuração\n",
        "        pred = model.predict(X_test_prep)\n",
        "        accuracy = accuracy_score(y_test, pred)\n",
        "        conf_mat = confusion_matrix(y_test, pred)\n",
        "        class_rep = classification_report(y_test, pred, output_dict=True)\n",
        "\n",
        "        # Armazenando os resultados\n",
        "        topology_results.append((size, lr, model.n_iter_, accuracy))\n",
        "        learning_rate_results.append((lr, model.n_iter_, accuracy))"
      ],
      "metadata": {
        "colab": {
          "base_uri": "https://localhost:8080/"
        },
        "id": "ZHElzFBOj5YN",
        "outputId": "6224ca4c-712c-424d-e560-872d79d0bd64"
      },
      "execution_count": 18,
      "outputs": [
        {
          "output_type": "stream",
          "name": "stderr",
          "text": [
            "/usr/local/lib/python3.10/dist-packages/sklearn/neural_network/_multilayer_perceptron.py:686: ConvergenceWarning: Stochastic Optimizer: Maximum iterations (1000) reached and the optimization hasn't converged yet.\n",
            "  warnings.warn(\n",
            "/usr/local/lib/python3.10/dist-packages/sklearn/metrics/_classification.py:1344: UndefinedMetricWarning: Precision and F-score are ill-defined and being set to 0.0 in labels with no predicted samples. Use `zero_division` parameter to control this behavior.\n",
            "  _warn_prf(average, modifier, msg_start, len(result))\n",
            "/usr/local/lib/python3.10/dist-packages/sklearn/metrics/_classification.py:1344: UndefinedMetricWarning: Precision and F-score are ill-defined and being set to 0.0 in labels with no predicted samples. Use `zero_division` parameter to control this behavior.\n",
            "  _warn_prf(average, modifier, msg_start, len(result))\n",
            "/usr/local/lib/python3.10/dist-packages/sklearn/metrics/_classification.py:1344: UndefinedMetricWarning: Precision and F-score are ill-defined and being set to 0.0 in labels with no predicted samples. Use `zero_division` parameter to control this behavior.\n",
            "  _warn_prf(average, modifier, msg_start, len(result))\n",
            "/usr/local/lib/python3.10/dist-packages/sklearn/metrics/_classification.py:1344: UndefinedMetricWarning: Precision and F-score are ill-defined and being set to 0.0 in labels with no predicted samples. Use `zero_division` parameter to control this behavior.\n",
            "  _warn_prf(average, modifier, msg_start, len(result))\n",
            "/usr/local/lib/python3.10/dist-packages/sklearn/metrics/_classification.py:1344: UndefinedMetricWarning: Precision and F-score are ill-defined and being set to 0.0 in labels with no predicted samples. Use `zero_division` parameter to control this behavior.\n",
            "  _warn_prf(average, modifier, msg_start, len(result))\n",
            "/usr/local/lib/python3.10/dist-packages/sklearn/metrics/_classification.py:1344: UndefinedMetricWarning: Precision and F-score are ill-defined and being set to 0.0 in labels with no predicted samples. Use `zero_division` parameter to control this behavior.\n",
            "  _warn_prf(average, modifier, msg_start, len(result))\n"
          ]
        }
      ]
    },
    {
      "cell_type": "code",
      "source": [
        "# Apresentando os resultados para diferentes topologias e taxas de aprendizado.\n",
        "print(\"\\nResultados para Diferentes Topologias e Taxas de Aprendizado:\")\n",
        "for res in topology_results:\n",
        "    size, lr, epochs, accuracy = res\n",
        "    print(f\"Topologia: {size}, Taxa de Aprendizado: {lr}, Épocas: {epochs}, Acurácia: {accuracy:.2f}\")\n",
        "\n",
        "print(\"\\nResultados para Diferentes Taxas de Aprendizado:\")\n",
        "for res in learning_rate_results:\n",
        "    lr, epochs, accuracy = res\n",
        "    print(f\"Taxa de Aprendizado: {lr}, Épocas: {epochs}, Acurácia: {accuracy:.2f}\")"
      ],
      "metadata": {
        "colab": {
          "base_uri": "https://localhost:8080/"
        },
        "id": "PoE4Y_U4j7v0",
        "outputId": "15017332-03b0-41cb-94ff-ec198ec812ae"
      },
      "execution_count": 19,
      "outputs": [
        {
          "output_type": "stream",
          "name": "stdout",
          "text": [
            "\n",
            "Resultados para Diferentes Topologias e Taxas de Aprendizado:\n",
            "Topologia: (10,), Taxa de Aprendizado: 0.001, Épocas: 1000, Acurácia: 0.64\n",
            "Topologia: (10,), Taxa de Aprendizado: 0.01, Épocas: 448, Acurácia: 0.60\n",
            "Topologia: (10,), Taxa de Aprendizado: 0.1, Épocas: 133, Acurácia: 0.64\n",
            "Topologia: (10,), Taxa de Aprendizado: 0.2, Épocas: 86, Acurácia: 0.66\n",
            "Topologia: (10,), Taxa de Aprendizado: 0.3, Épocas: 46, Acurácia: 0.72\n",
            "Topologia: (10, 10), Taxa de Aprendizado: 0.001, Épocas: 964, Acurácia: 0.66\n",
            "Topologia: (10, 10), Taxa de Aprendizado: 0.01, Épocas: 251, Acurácia: 0.62\n",
            "Topologia: (10, 10), Taxa de Aprendizado: 0.1, Épocas: 56, Acurácia: 0.72\n",
            "Topologia: (10, 10), Taxa de Aprendizado: 0.2, Épocas: 49, Acurácia: 0.69\n",
            "Topologia: (10, 10), Taxa de Aprendizado: 0.3, Épocas: 21, Acurácia: 0.71\n",
            "Topologia: (20, 10), Taxa de Aprendizado: 0.001, Épocas: 568, Acurácia: 0.67\n",
            "Topologia: (20, 10), Taxa de Aprendizado: 0.01, Épocas: 132, Acurácia: 0.71\n",
            "Topologia: (20, 10), Taxa de Aprendizado: 0.1, Épocas: 75, Acurácia: 0.67\n",
            "Topologia: (20, 10), Taxa de Aprendizado: 0.2, Épocas: 68, Acurácia: 0.69\n",
            "Topologia: (20, 10), Taxa de Aprendizado: 0.3, Épocas: 18, Acurácia: 0.71\n",
            "\n",
            "Resultados para Diferentes Taxas de Aprendizado:\n",
            "Taxa de Aprendizado: 0.001, Épocas: 1000, Acurácia: 0.64\n",
            "Taxa de Aprendizado: 0.01, Épocas: 448, Acurácia: 0.60\n",
            "Taxa de Aprendizado: 0.1, Épocas: 133, Acurácia: 0.64\n",
            "Taxa de Aprendizado: 0.2, Épocas: 86, Acurácia: 0.66\n",
            "Taxa de Aprendizado: 0.3, Épocas: 46, Acurácia: 0.72\n",
            "Taxa de Aprendizado: 0.001, Épocas: 964, Acurácia: 0.66\n",
            "Taxa de Aprendizado: 0.01, Épocas: 251, Acurácia: 0.62\n",
            "Taxa de Aprendizado: 0.1, Épocas: 56, Acurácia: 0.72\n",
            "Taxa de Aprendizado: 0.2, Épocas: 49, Acurácia: 0.69\n",
            "Taxa de Aprendizado: 0.3, Épocas: 21, Acurácia: 0.71\n",
            "Taxa de Aprendizado: 0.001, Épocas: 568, Acurácia: 0.67\n",
            "Taxa de Aprendizado: 0.01, Épocas: 132, Acurácia: 0.71\n",
            "Taxa de Aprendizado: 0.1, Épocas: 75, Acurácia: 0.67\n",
            "Taxa de Aprendizado: 0.2, Épocas: 68, Acurácia: 0.69\n",
            "Taxa de Aprendizado: 0.3, Épocas: 18, Acurácia: 0.71\n"
          ]
        }
      ]
    },
    {
      "cell_type": "code",
      "source": [
        "# Resumo final usando o melhor modelo do Grid Search.\n",
        "print(\"\\nResumo Final Usando o Melhor Modelo do Grid Search:\")\n",
        "print(f\"Melhor Configuração de Hiperparâmetros: {grid_search_cv.best_params_}\")\n",
        "print(f\"Precisão Média da Validação Cruzada: {grid_search_cv.best_score_:.2f}\")\n",
        "print(f\"Acurácia no Conjunto de Teste: {accuracy_score(y_test, predictions):.2f}\")\n",
        "print(\"Matriz de Confusão:\")\n",
        "print(confusion_matrix(y_test, predictions))\n",
        "print(\"Relatório de Classificação:\")\n",
        "print(classification_report(y_test, predictions))"
      ],
      "metadata": {
        "colab": {
          "base_uri": "https://localhost:8080/"
        },
        "id": "Jur9CJoxj98t",
        "outputId": "6115e954-c21f-4b87-a46b-9f7b8468e63f"
      },
      "execution_count": 20,
      "outputs": [
        {
          "output_type": "stream",
          "name": "stdout",
          "text": [
            "\n",
            "Resumo Final Usando o Melhor Modelo do Grid Search:\n",
            "Melhor Configuração de Hiperparâmetros: {'classifier__hidden_layer_sizes': (20, 10), 'classifier__learning_rate_init': 0.1, 'classifier__max_iter': 1000, 'classifier__n_iter_no_change': 10, 'classifier__tol': 0.0001, 'classifier__verbose': False}\n",
            "Precisão Média da Validação Cruzada: 0.73\n",
            "Acurácia no Conjunto de Teste: 0.67\n",
            "Matriz de Confusão:\n",
            "[[29 12]\n",
            " [ 7 10]]\n",
            "Relatório de Classificação:\n",
            "              precision    recall  f1-score   support\n",
            "\n",
            "           0       0.81      0.71      0.75        41\n",
            "           1       0.45      0.59      0.51        17\n",
            "\n",
            "    accuracy                           0.67        58\n",
            "   macro avg       0.63      0.65      0.63        58\n",
            "weighted avg       0.70      0.67      0.68        58\n",
            "\n"
          ]
        }
      ]
    }
  ]
}